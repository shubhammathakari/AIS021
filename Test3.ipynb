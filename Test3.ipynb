{
 "cells": [
  {
   "cell_type": "markdown",
   "metadata": {},
   "source": [
    "### Mathakari Shubham\n",
    "### ID:AIS021"
   ]
  },
  {
   "cell_type": "markdown",
   "metadata": {},
   "source": [
    "### List and Tuple in python"
   ]
  },
  {
   "cell_type": "markdown",
   "metadata": {},
   "source": [
    "### 1. What is tuple?\n",
    "\n",
    "Ans: A tuple is an immutable sequence of Python objects. Tuples are sequences, just like lists."
   ]
  },
  {
   "cell_type": "markdown",
   "metadata": {},
   "source": [
    "### 2. What is difference between list and tuple?\n",
    "\n",
    "Ans: The differences between tuples and lists are, the tuples cannot be changed unlike lists and tuples use parentheses, whereas lists use square brackets."
   ]
  },
  {
   "cell_type": "markdown",
   "metadata": {},
   "source": [
    "### 3. What is the result of range (1, 12, 2)?"
   ]
  },
  {
   "cell_type": "code",
   "execution_count": 41,
   "metadata": {},
   "outputs": [
    {
     "data": {
      "text/plain": [
       "[1, 3, 5, 7, 9, 11]"
      ]
     },
     "execution_count": 41,
     "metadata": {},
     "output_type": "execute_result"
    }
   ],
   "source": [
    "[*range(1,12,2)]"
   ]
  },
  {
   "cell_type": "markdown",
   "metadata": {},
   "source": [
    "### 4. Assuming a= [10, 20, 30, 40, 50]\n",
    "1. Find length of a list?\n",
    "2. Find maximum and minimum number of a list"
   ]
  },
  {
   "cell_type": "code",
   "execution_count": 28,
   "metadata": {},
   "outputs": [
    {
     "name": "stdout",
     "output_type": "stream",
     "text": [
      "lenght_a: 5\n"
     ]
    }
   ],
   "source": [
    "#length of a list\n",
    "a= [10, 20, 30, 40, 50]\n",
    "lenght_a =len(a)\n",
    "print('lenght_a:',lenght_a)"
   ]
  },
  {
   "cell_type": "code",
   "execution_count": 29,
   "metadata": {},
   "outputs": [
    {
     "name": "stdout",
     "output_type": "stream",
     "text": [
      "maximum: 50\n",
      "minimum: 10\n"
     ]
    }
   ],
   "source": [
    "#maximum and minimum number of a list\n",
    "maximum = max(a)\n",
    "minimum = min(a) \n",
    "print('maximum:',maximum)\n",
    "print('minimum:',minimum)"
   ]
  },
  {
   "cell_type": "markdown",
   "metadata": {},
   "source": [
    "### 5. If x=(1,2,3,4,5,1,3,1) then what is the result of x*2 and x.count(1)?"
   ]
  },
  {
   "cell_type": "code",
   "execution_count": 30,
   "metadata": {},
   "outputs": [
    {
     "name": "stdout",
     "output_type": "stream",
     "text": [
      "x*2: (1, 2, 3, 4, 5, 1, 3, 1, 1, 2, 3, 4, 5, 1, 3, 1)\n",
      "count(1): 3\n"
     ]
    }
   ],
   "source": [
    "x=(1,2,3,4,5,1,3,1)\n",
    "print('x*2:',x*2)\n",
    "print('count(1):',x.count(1))\n"
   ]
  },
  {
   "cell_type": "markdown",
   "metadata": {},
   "source": [
    "### 6. Create a list of colors name and then print first and last color name of the list using slicing?"
   ]
  },
  {
   "cell_type": "code",
   "execution_count": 31,
   "metadata": {},
   "outputs": [
    {
     "name": "stdout",
     "output_type": "stream",
     "text": [
      "['red', 'violet']\n"
     ]
    }
   ],
   "source": [
    "colors = ['red', 'orange', 'yellow', 'green', 'blue', 'indigo', 'violet']\n",
    "a=slice(0,7,6)\n",
    "print(colors[a])"
   ]
  },
  {
   "cell_type": "markdown",
   "metadata": {},
   "source": [
    "### 7. If list = [1,4,7,'a','c',\"rat\",\"mat\",4,6,4] then add element 12 using append method and remove rat element using remove method in the given list?"
   ]
  },
  {
   "cell_type": "code",
   "execution_count": 32,
   "metadata": {},
   "outputs": [
    {
     "name": "stdout",
     "output_type": "stream",
     "text": [
      "[1, 4, 7, 'a', 'c', 'mat', 4, 6, 4, 12]\n"
     ]
    }
   ],
   "source": [
    "ais = [1,4,7,'a','c',\"rat\",\"mat\",4,6,4]\n",
    "ais.append(12)\n",
    "ais.remove(\"rat\")\n",
    "print(ais)\n"
   ]
  },
  {
   "cell_type": "markdown",
   "metadata": {},
   "source": [
    "### 8. Create two list and concatenate them and then repeat 1st list 3 times?"
   ]
  },
  {
   "cell_type": "code",
   "execution_count": 33,
   "metadata": {},
   "outputs": [
    {
     "name": "stdout",
     "output_type": "stream",
     "text": [
      "concatenate: ['red', 'orange', 'yellow', 'green', 'blue', 'indigo', 'violet', 1, 4, 7, 'a', 'c', 'mat', 4, 6, 4, 12]\n",
      "list1*3: ['red', 'orange', 'yellow', 'green', 'blue', 'indigo', 'violet', 'red', 'orange', 'yellow', 'green', 'blue', 'indigo', 'violet', 'red', 'orange', 'yellow', 'green', 'blue', 'indigo', 'violet']\n"
     ]
    }
   ],
   "source": [
    "list1 = ['red', 'orange', 'yellow', 'green', 'blue', 'indigo', 'violet']\n",
    "list2 = [1, 4, 7, 'a', 'c', 'mat', 4, 6, 4, 12]\n",
    "concatenate = list1 + list2\n",
    "print('concatenate:',concatenate)\n",
    "print('list1*3:',list1*3)"
   ]
  },
  {
   "cell_type": "markdown",
   "metadata": {},
   "source": [
    "### 9. Create a tuple of fruits name and then access first 4 elements from the tuple?"
   ]
  },
  {
   "cell_type": "code",
   "execution_count": 18,
   "metadata": {},
   "outputs": [
    {
     "data": {
      "text/plain": [
       "('apple', 'banana', 'Grapes', 'Mango')"
      ]
     },
     "execution_count": 18,
     "metadata": {},
     "output_type": "execute_result"
    }
   ],
   "source": [
    "fruit =('apple','banana','Grapes','Mango','Oranges','strawberry')\n",
    "fruit[0:4]"
   ]
  },
  {
   "cell_type": "markdown",
   "metadata": {},
   "source": [
    "### 10 .Create a list using range function and then convert this list into tuple using tuple function?"
   ]
  },
  {
   "cell_type": "code",
   "execution_count": 42,
   "metadata": {},
   "outputs": [
    {
     "name": "stdout",
     "output_type": "stream",
     "text": [
      "list1: [0, 5, 10, 15, 20, 25, 30]\n",
      "tuple: (0, 5, 10, 15, 20, 25, 30)\n"
     ]
    }
   ],
   "source": [
    "list1 = [*range(0, 31, 5)]\n",
    "print('list1:',list1)\n",
    "print('tuple:',tuple(list1))"
   ]
  },
  {
   "cell_type": "markdown",
   "metadata": {},
   "source": [
    "### 11. Create a tuple using eval function and then obtained the length of tuple?"
   ]
  },
  {
   "cell_type": "code",
   "execution_count": 19,
   "metadata": {},
   "outputs": [
    {
     "name": "stdout",
     "output_type": "stream",
     "text": [
      "tuple1: (1, 9, 32, 65, 25)\n",
      "length of tuple1: 5\n"
     ]
    }
   ],
   "source": [
    "tuple1 =eval(\"1,9,32,65,25\")\n",
    "print('tuple1:',tuple1)\n",
    "a= len(tuple1)\n",
    "print('length of tuple1:',a)"
   ]
  },
  {
   "cell_type": "markdown",
   "metadata": {},
   "source": [
    "### 12. Create a tuple of integer number and then sort the elements of tuple?"
   ]
  },
  {
   "cell_type": "code",
   "execution_count": 46,
   "metadata": {},
   "outputs": [
    {
     "name": "stdout",
     "output_type": "stream",
     "text": [
      "tuple1: [10, 14, 15, 25, 63, 65, 85, 98]\n"
     ]
    }
   ],
   "source": [
    "tuple1 =(10,15,65,85,98,63,25,14)\n",
    "tuple1 =sorted(tuple1)\n",
    "print('tuple1:',tuple1)"
   ]
  },
  {
   "cell_type": "markdown",
   "metadata": {},
   "source": [
    "### 13. Create a list of colors name and then insert purple color on 3rd position using insert method?"
   ]
  },
  {
   "cell_type": "code",
   "execution_count": 51,
   "metadata": {},
   "outputs": [
    {
     "name": "stdout",
     "output_type": "stream",
     "text": [
      "['red', 'orange', 'purple', 'yellow', 'green', 'blue', 'indigo', 'violet']\n"
     ]
    }
   ],
   "source": [
    "list1 = ['red', 'orange', 'yellow', 'green', 'blue', 'indigo', 'violet']\n",
    "list1.insert(2,'purple')\n",
    "print(list1)\n"
   ]
  },
  {
   "cell_type": "markdown",
   "metadata": {},
   "source": [
    "### 14. If x= (50, 60, 70, 80, 90, (200,100)) then access 200,100 from the tuple?"
   ]
  },
  {
   "cell_type": "code",
   "execution_count": 5,
   "metadata": {},
   "outputs": [
    {
     "data": {
      "text/plain": [
       "(200, 100)"
      ]
     },
     "execution_count": 5,
     "metadata": {},
     "output_type": "execute_result"
    }
   ],
   "source": [
    "x= (50, 60, 70, 80, 90, (200,100))\n",
    "x[5][:]"
   ]
  },
  {
   "cell_type": "markdown",
   "metadata": {},
   "source": [
    "### 15. Create a nested tuple and nested list?"
   ]
  },
  {
   "cell_type": "code",
   "execution_count": 22,
   "metadata": {},
   "outputs": [
    {
     "name": "stdout",
     "output_type": "stream",
     "text": [
      "tuple1: (8, (5, (15, (5, 6), 5), 9), (3, 4))\n",
      "list1: [[0, [5, 10], 15], ['red', ['orange', 'purple'], 'yellow'], 50, 60, 70, 80, 90]\n"
     ]
    }
   ],
   "source": [
    "tuple1 = (8,(5,(15,(5,6),5),9),(3,4))\n",
    "list1 = [[0,[5,10],15,],['red',['orange','purple'],'yellow'], 50, 60, 70, 80, 90, ]\n",
    "print('tuple1:',tuple1)\n",
    "print('list1:',list1)"
   ]
  }
 ],
 "metadata": {
  "kernelspec": {
   "display_name": "Python 3",
   "language": "python",
   "name": "python3"
  },
  "language_info": {
   "codemirror_mode": {
    "name": "ipython",
    "version": 3
   },
   "file_extension": ".py",
   "mimetype": "text/x-python",
   "name": "python",
   "nbconvert_exporter": "python",
   "pygments_lexer": "ipython3",
   "version": "3.7.6"
  }
 },
 "nbformat": 4,
 "nbformat_minor": 4
}
