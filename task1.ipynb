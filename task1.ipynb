{
 "cells": [
  {
   "cell_type": "markdown",
   "metadata": {},
   "source": [
    "### Name: Mathakari Shubham\n",
    "#### ID: AIS021"
   ]
  },
  {
   "cell_type": "markdown",
   "metadata": {},
   "source": [
    "### 1. What is variable? And rules to declare a variable in python?\n",
    "\n",
    "Ans: A Python variable is a reserved memory location to store values.\n",
    "\n",
    "rules to declare a variable in python:\n",
    "\n",
    "variable name must start with a letter or the underscore character.\n",
    "\n",
    "A variable name cannot start with a number.\n",
    "\n",
    "A variable name can only contain alpha-numeric characters and underscores (A-z, 0-9, and _ ).\n",
    "\n",
    "Variable names are case-sensitive."
   ]
  },
  {
   "cell_type": "markdown",
   "metadata": {},
   "source": [
    "### 2. What are the primitive built-in types in python?\n",
    "\n",
    "Ans: integers, floats, booleans and strings."
   ]
  },
  {
   "cell_type": "markdown",
   "metadata": {},
   "source": [
    "### 3. What is the mutable and immutable object in Python, Which data types are immutable in Python?\n",
    "\n",
    "Ans: Mutable object: A mutable object is an object whose value can change.\n",
    "\n",
    "      Immutable object: An immutable object is an object whose value cannot change.\n",
    "\n",
    "      Immutable data types are integer, float, decimal, boolean value, string, tuple, and range"
   ]
  },
  {
   "cell_type": "markdown",
   "metadata": {},
   "source": [
    "### 4. How to get the length of the string?\n",
    "\n",
    "Ans: len(string)"
   ]
  },
  {
   "cell_type": "markdown",
   "metadata": {},
   "source": [
    "### 5. Which are the Relational Operators and their used in python?\n",
    "\n",
    " Ans: Relation operators are greater than (>) ,less than (<), greater than or equal to (>=), less than or equal to (<=), equals   (=), not equal(!=). \n",
    " \n",
    "  The Relational Operators used for establish sort of some sort of relationship between the two operators"
   ]
  },
  {
   "cell_type": "markdown",
   "metadata": {},
   "source": [
    "### 6. What is the result of float (5), 10>=\"9\", 10**2, len (\"basic python\")?\n",
    "\n",
    "Ans:"
   ]
  },
  {
   "cell_type": "code",
   "execution_count": 1,
   "metadata": {},
   "outputs": [
    {
     "name": "stdout",
     "output_type": "stream",
     "text": [
      "a: 5.0\n",
      "b: True\n",
      "c: 100\n",
      "d: 12\n"
     ]
    }
   ],
   "source": [
    "a = float(5)\n",
    "b = 10>=9\n",
    "c = 10**2\n",
    "d = len(\"basic python\")\n",
    "print('a:',a)\n",
    "print('b:',b)\n",
    "print('c:',c)\n",
    "print('d:',d)\n",
    "\n"
   ]
  },
  {
   "cell_type": "markdown",
   "metadata": {},
   "source": [
    "### 7. What is meant by input and output? Which function is used to display output in python?\n",
    "\n",
    "Ans: Input: A function is defined as a block of organized, reusable code used to perform a single, related action.\n",
    "       \n",
    "   output:  An argument is a value you pass to a function when calling it. A value is a letter or a number.\n",
    "   \n",
    "   print() function is used to display output in python.\n",
    "   \n",
    "   \n",
    "    \n",
    "    \n"
   ]
  },
  {
   "cell_type": "markdown",
   "metadata": {},
   "source": [
    "### 8. Convert any integer number into float, string, and convert float into string, integer\n",
    "Convert string into float, integer\n",
    " Coding Exercise:\n",
    " \n",
    "Ans:1)Convert any integer number x into:\n",
    "\n",
    "   float type flot(x)\n",
    "    \n",
    "   string type str(x)\n",
    "        \n",
    "   2)convert float into:\n",
    "   \n",
    "   string type str(float)\n",
    "   \n",
    "   integer type int()\n",
    "   \n",
    "   3)Convert string into\n",
    "   \n",
    "   float type float()\n",
    "   \n",
    "   integer type int()\n",
    "   \n",
    "        \n",
    "        \n",
    "         "
   ]
  },
  {
   "cell_type": "markdown",
   "metadata": {},
   "source": [
    "### 9. Take integer number using input function from user?\n",
    "\n",
    "Ans: \n"
   ]
  },
  {
   "cell_type": "code",
   "execution_count": 1,
   "metadata": {},
   "outputs": [
    {
     "name": "stdout",
     "output_type": "stream",
     "text": [
      "Enter an integer10\n",
      "10\n"
     ]
    }
   ],
   "source": [
    "x = int(input(\"Enter an integer\"))\n",
    "print (x)"
   ]
  },
  {
   "cell_type": "markdown",
   "metadata": {},
   "source": [
    "### 10. Take two number using input function and find their sum?\n",
    "\n",
    "Ans:"
   ]
  },
  {
   "cell_type": "code",
   "execution_count": 4,
   "metadata": {},
   "outputs": [
    {
     "name": "stdout",
     "output_type": "stream",
     "text": [
      "x:45\n",
      "y:85\n",
      "The sum of x and y is 130.0\n"
     ]
    }
   ],
   "source": [
    "number1 =input(\"x:\")\n",
    "number2 =input(\"y:\")\n",
    "sum = float(number1) + float(number2)\n",
    "print('The sum of x and y is',sum)"
   ]
  },
  {
   "cell_type": "markdown",
   "metadata": {},
   "source": [
    "### 11. Write a python program to accept two number using input function and use all the arithmetic operators?\n",
    "\n",
    "Ans:"
   ]
  },
  {
   "cell_type": "code",
   "execution_count": 6,
   "metadata": {},
   "outputs": [
    {
     "name": "stdout",
     "output_type": "stream",
     "text": [
      "x:27\n",
      "y:8\n",
      "sum: 35.0\n",
      "mul: 216.0\n",
      "sub: 19.0\n",
      "div: 3.375\n",
      "floor_div: 3.0\n",
      "power: 282429536481.0\n",
      "modulus: 3.0\n"
     ]
    }
   ],
   "source": [
    "number1 =input(\"x:\")\n",
    "number2 =input(\"y:\")\n",
    "sum = float(number1) + float(number2)\n",
    "mul = float(number1) * float(number2)\n",
    "sub = float(number1) - float(number2)\n",
    "div = float(number1) / float(number2) \n",
    "floor_div = float(number1) // float(number2)\n",
    "power = float(number1) ** float(number2)\n",
    "modulus = float(number1) % float(number2)\n",
    "print('sum:',sum)\n",
    "print('mul:',mul)\n",
    "print('sub:',sub)\n",
    "print('div:',div)\n",
    "print('floor_div:',floor_div)\n",
    "print('power:',power)\n",
    "print('modulus:',modulus)"
   ]
  },
  {
   "cell_type": "markdown",
   "metadata": {},
   "source": [
    "### 11. Check whether two numbers are equal or not using identity operator?\n",
    "\n",
    "Ans:\n"
   ]
  },
  {
   "cell_type": "code",
   "execution_count": 7,
   "metadata": {},
   "outputs": [
    {
     "ename": "IndentationError",
     "evalue": "unexpected indent (<ipython-input-7-7c837d442b21>, line 2)",
     "output_type": "error",
     "traceback": [
      "\u001b[1;36m  File \u001b[1;32m\"<ipython-input-7-7c837d442b21>\"\u001b[1;36m, line \u001b[1;32m2\u001b[0m\n\u001b[1;33m    num2 = input(\"Enter second number: \")\u001b[0m\n\u001b[1;37m    ^\u001b[0m\n\u001b[1;31mIndentationError\u001b[0m\u001b[1;31m:\u001b[0m unexpected indent\n"
     ]
    }
   ],
   "source": [
    "num1 = input(\"Enter first number: \")\n",
    " num2 = input(\"Enter second number: \")\n",
    "    if num1 is '' \n",
    " if num1 is num2:\n",
    "        print(\"Both number are equal to each other.\");\n",
    "    else:\n",
    "        print(\"number are not equal.\")"
   ]
  },
  {
   "cell_type": "markdown",
   "metadata": {},
   "source": [
    "### 12. Write a python program to check whether two string are equal or not using comparison operator?\n",
    "\n",
    "Ans:\n"
   ]
  },
  {
   "cell_type": "code",
   "execution_count": 4,
   "metadata": {},
   "outputs": [
    {
     "name": "stdout",
     "output_type": "stream",
     "text": [
      "Enter first string: msd\n",
      "Enter second string: msd\n",
      "Both strings are equal to each other.\n",
      "msd == msd\n"
     ]
    }
   ],
   "source": [
    "string1 = input(\"Enter first string: \")\n",
    "if string1 == 'x':\n",
    "    exit();\n",
    "else:\n",
    "    string2 = input(\"Enter second string: \")\n",
    "    if string1 == string2:\n",
    "        print(\"Both strings are equal to each other.\")\n",
    "        print(string1,\"==\",string2);\n",
    "    else:\n",
    "        print(\"Strings are not equal.\")\n",
    "        print(string1,\"!=\",string2)\n"
   ]
  },
  {
   "cell_type": "markdown",
   "metadata": {},
   "source": [
    "### 13. Assign same value to three variable name a, b and c using one line command?\n",
    "\n",
    "Ans:"
   ]
  },
  {
   "cell_type": "code",
   "execution_count": null,
   "metadata": {},
   "outputs": [],
   "source": [
    "a = b = c = input(\"value\")\n",
    "\n",
    "print('a=',a) \n",
    "print('b=',b) \n",
    "print('c=',c)"
   ]
  },
  {
   "cell_type": "markdown",
   "metadata": {},
   "source": [
    "### 14. How to print address of variables in python?\n",
    "\n",
    "ans: print(id())"
   ]
  },
  {
   "cell_type": "markdown",
   "metadata": {},
   "source": [
    "### 15. Introduction of python?\n",
    "\n",
    "Ans:Python is an interpreted, high-level, general-purpose programming language. \n",
    "  \n",
    "  Python was conceived in the late 1980s by Guido van Rossum at Centrum Wiskunde & Informatica (CWI) in the Netherlands as a successor to the ABC language (itself inspired by SETL), capable of exception  handling and interfacing with the Amoeba operating system. Its implementation began in December 1989.\n",
    "  \n",
    "  why should you learn python???\n",
    "  \n",
    "  Python is one of the most loved programming languages by developers, data scientists, software engineers, and even hackers because of its versatility, flexibility, and object-oriented features. ... Although it's a high-level language and can do complex tasks, Python is easy to learn and has a clean syntax\n",
    "  \n",
    "  version:Python 3.7. 7 is the latest bugfix release of Python 3.7\n",
    "  \n",
    "  installation:\n",
    "  \n",
    "  Step 1: Download the Python 3 Installer. Open a browser window and navigate to the Download page for Windows at python.org. ...\n",
    "\n",
    "Step 2: Run the Installer. Once you have chosen and downloaded an installer, simply run it by double-clicking on the downloaded file.\n",
    "\n",
    "application:\n",
    "   \n",
    "1) Web Applications.\n",
    "\n",
    "2) Desktop GUI Applications.\n",
    "\n",
    "3) Software Development. \n",
    "\n",
    "4) Scientific and Numeric.\n",
    "\n",
    "5) Business Applications. \n",
    "\n",
    "6) Console Based Application. \n",
    "\n",
    "7) Audio or Video based Applications. \n",
    "\n",
    "8) 3D CAD Applications.\n",
    "\n",
    "\n"
   ]
  },
  {
   "cell_type": "code",
   "execution_count": null,
   "metadata": {},
   "outputs": [],
   "source": []
  }
 ],
 "metadata": {
  "kernelspec": {
   "display_name": "Python 3",
   "language": "python",
   "name": "python3"
  },
  "language_info": {
   "codemirror_mode": {
    "name": "ipython",
    "version": 3
   },
   "file_extension": ".py",
   "mimetype": "text/x-python",
   "name": "python",
   "nbconvert_exporter": "python",
   "pygments_lexer": "ipython3",
   "version": "3.7.6"
  }
 },
 "nbformat": 4,
 "nbformat_minor": 4
}
