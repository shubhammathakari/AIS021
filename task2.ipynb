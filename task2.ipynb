{
 "cells": [
  {
   "cell_type": "markdown",
   "metadata": {},
   "source": [
    "### Name: Mathakari Shubham\n",
    "#### ID: AIS021"
   ]
  },
  {
   "cell_type": "markdown",
   "metadata": {},
   "source": [
    "1. What is an array?\n",
    "\n",
    "Ans: An array is a collection of items stored at contiguous memory locations. "
   ]
  },
  {
   "cell_type": "markdown",
   "metadata": {},
   "source": [
    "2. What is difference between array and list?\n",
    "\n",
    "Ans:Arrays are great for numerical operations; lists cannot directly handle math operations.\n",
    "     "
   ]
  },
  {
   "cell_type": "markdown",
   "metadata": {},
   "source": [
    "3. How to change the shape of an array?\n",
    "\n",
    "Ans:The reshape() function is used to give a new shape to an array without changing its data."
   ]
  },
  {
   "cell_type": "markdown",
   "metadata": {},
   "source": [
    "4. What does the name.strip () do?\n",
    "\n",
    "Ans if we write  'name'.strip() it gives 'name'"
   ]
  },
  {
   "cell_type": "markdown",
   "metadata": {},
   "source": [
    "5. When we use triple single or triple double quotes to define a string?\n",
    "\n",
    "Ans: To create strings that span multiple lines, triple single quotes  or triple double quotes are used to enclose the string."
   ]
  },
  {
   "cell_type": "markdown",
   "metadata": {},
   "source": [
    "6. Create a character type array?\n",
    "\n",
    "Ans:\n"
   ]
  },
  {
   "cell_type": "code",
   "execution_count": 18,
   "metadata": {},
   "outputs": [
    {
     "data": {
      "text/plain": [
       "chararray([b'1', b'1', b'1', b'1', b'1', b'1', b'1', b'1', b'1', b'1'],\n",
       "          dtype='|S1')"
      ]
     },
     "execution_count": 18,
     "metadata": {},
     "output_type": "execute_result"
    }
   ],
   "source": [
    "import numpy as np\n",
    "array = np.chararray(10)\n",
    "array[:]=1\n",
    "array"
   ]
  },
  {
   "cell_type": "markdown",
   "metadata": {},
   "source": [
    "7. Create a “hello” string and access the string character \"ll\" in python?\n",
    "\n",
    "Ans:"
   ]
  },
  {
   "cell_type": "code",
   "execution_count": 2,
   "metadata": {},
   "outputs": [
    {
     "name": "stdout",
     "output_type": "stream",
     "text": [
      "ll\n"
     ]
    }
   ],
   "source": [
    "str1 = \"hello\"\n",
    "print(str1[2:4])"
   ]
  },
  {
   "cell_type": "markdown",
   "metadata": {},
   "source": [
    "8. Create an array to get largest and smallest number using minimum and maximum function?\n",
    "\n",
    "Ans:\n"
   ]
  },
  {
   "cell_type": "code",
   "execution_count": 7,
   "metadata": {},
   "outputs": [
    {
     "name": "stdout",
     "output_type": "stream",
     "text": [
      "Largest number: 149\n",
      "Smallest number: 10\n"
     ]
    }
   ],
   "source": [
    "import numpy as np\n",
    "array1 = np.arange(10,150)\n",
    "print('Largest number:',max(array1))\n",
    "print('Smallest number:',min(array1))"
   ]
  },
  {
   "cell_type": "markdown",
   "metadata": {},
   "source": [
    "9. If name is “core python” then access the \"python\" from name and reverse \"python\" using slicing?\n",
    "\n",
    "Ans:"
   ]
  },
  {
   "cell_type": "code",
   "execution_count": 50,
   "metadata": {},
   "outputs": [
    {
     "name": "stdout",
     "output_type": "stream",
     "text": [
      "a: python\n",
      "b: nohtyp\n"
     ]
    }
   ],
   "source": [
    "name =\"core python\"\n",
    "a = name[5:]\n",
    "print('a:',name[5:])\n",
    "print('b:',a[::-1])\n"
   ]
  },
  {
   "cell_type": "markdown",
   "metadata": {},
   "source": [
    "10. Create an array of integer type and add element 12 using append method and remove one element using remove methods?\n",
    "\n",
    "Ans:"
   ]
  },
  {
   "cell_type": "code",
   "execution_count": 9,
   "metadata": {},
   "outputs": [
    {
     "name": "stdout",
     "output_type": "stream",
     "text": [
      "array1: [10 18  8  6 30 45 12]\n",
      "array2: [10 18  8  6 45]\n"
     ]
    }
   ],
   "source": [
    "array = np.array([10, 18, 8, 6, 30, 45])\n",
    "array1 = np.append(array,12)\n",
    "print('array1:',array1)\n",
    "array2 = np.delete(array,4)\n",
    "print('array2:',array2)\n",
    "\n"
   ]
  },
  {
   "cell_type": "markdown",
   "metadata": {},
   "source": [
    "11. Create a single dimensional and 3 dimensional array using numpy?\n",
    "\n",
    "Ans:\n",
    "    "
   ]
  },
  {
   "cell_type": "code",
   "execution_count": 16,
   "metadata": {},
   "outputs": [
    {
     "name": "stdout",
     "output_type": "stream",
     "text": [
      "single_dimensional: [10  7 17 18]\n",
      "a: [[[3 2 4]\n",
      "  [1 4 6]]\n",
      "\n",
      " [[3 5 6]\n",
      "  [9 7 8]]]\n"
     ]
    }
   ],
   "source": [
    "single_dimensional = np.array([10,7,17,18])\n",
    "Three_dimensional = np.array([[[3, 2, 4], [1, 4, 6]], [[3, 5, 6], [9, 7, 8]]])\n",
    "print('single_dimensional:',single_dimensional)\n",
    "print('a:',Three_dimensional)"
   ]
  },
  {
   "cell_type": "markdown",
   "metadata": {},
   "source": [
    "12. Create a “Programiz” string and convert the string into upper, lower case? And replace given string by “program” using replace method?\n",
    "\n",
    "Ans:"
   ]
  },
  {
   "cell_type": "code",
   "execution_count": 24,
   "metadata": {},
   "outputs": [
    {
     "name": "stdout",
     "output_type": "stream",
     "text": [
      "lower case: programiz\n",
      "upper case: PROGRAMIZ\n"
     ]
    }
   ],
   "source": [
    "string =\"Programiz\"\n",
    "print('lower case:',string.lower())\n",
    "print('upper case:',string.upper())"
   ]
  },
  {
   "cell_type": "code",
   "execution_count": 25,
   "metadata": {},
   "outputs": [
    {
     "name": "stdout",
     "output_type": "stream",
     "text": [
      "a: program\n"
     ]
    }
   ],
   "source": [
    "a =string.replace(\"Programiz\",\"program\")\n",
    "print('a:',a)"
   ]
  },
  {
   "cell_type": "markdown",
   "metadata": {},
   "source": [
    "13. Create a two array one using linspace and another using arange function and then subtract array1 from array 2?\n",
    "\n",
    "Ans:"
   ]
  },
  {
   "cell_type": "code",
   "execution_count": 37,
   "metadata": {},
   "outputs": [
    {
     "name": "stdout",
     "output_type": "stream",
     "text": [
      "array1: [ 1  2  3  4  5  6  7  8  9 10]\n",
      "array2: [10.         11.11111111 12.22222222 13.33333333 14.44444444 15.55555556\n",
      " 16.66666667 17.77777778 18.88888889 20.        ]\n",
      "sub: [ 9.          9.11111111  9.22222222  9.33333333  9.44444444  9.55555556\n",
      "  9.66666667  9.77777778  9.88888889 10.        ]\n"
     ]
    }
   ],
   "source": [
    "array1 =np.arange(1,11)\n",
    "print('array1:',array1)\n",
    "array2 =np.linspace(10,20,10)\n",
    "print('array2:',array2)\n",
    "sub =array2 - array1\n",
    "print('sub:',sub)"
   ]
  },
  {
   "cell_type": "markdown",
   "metadata": {},
   "source": [
    "14. Create a “happy new year” string and then separate this string by (space) \",”?\n",
    "\n",
    "Ans:"
   ]
  },
  {
   "cell_type": "code",
   "execution_count": 40,
   "metadata": {},
   "outputs": [
    {
     "name": "stdout",
     "output_type": "stream",
     "text": [
      "spearated_string: ['happy new year']\n"
     ]
    }
   ],
   "source": [
    "string =\"happy new year\"\n",
    "spearated_string =string.split(\", \")\n",
    "print(\"spearated_string:\",spearated_string)"
   ]
  },
  {
   "cell_type": "markdown",
   "metadata": {},
   "source": [
    "15. Create two string and check whether one string present in another string using membership operator?\n",
    "\n",
    "Ans:"
   ]
  },
  {
   "cell_type": "code",
   "execution_count": 58,
   "metadata": {},
   "outputs": [
    {
     "data": {
      "text/plain": [
       "True"
      ]
     },
     "execution_count": 58,
     "metadata": {},
     "output_type": "execute_result"
    }
   ],
   "source": [
    "import operator \n",
    "string1 = \" is good boy\"\n",
    "string2 = \"shekhar is good boy\"\n",
    "operator.contains(string2, string1)\n",
    " \n",
    "\n"
   ]
  },
  {
   "cell_type": "code",
   "execution_count": null,
   "metadata": {},
   "outputs": [],
   "source": []
  }
 ],
 "metadata": {
  "kernelspec": {
   "display_name": "Python 3",
   "language": "python",
   "name": "python3"
  },
  "language_info": {
   "codemirror_mode": {
    "name": "ipython",
    "version": 3
   },
   "file_extension": ".py",
   "mimetype": "text/x-python",
   "name": "python",
   "nbconvert_exporter": "python",
   "pygments_lexer": "ipython3",
   "version": "3.7.6"
  }
 },
 "nbformat": 4,
 "nbformat_minor": 4
}
