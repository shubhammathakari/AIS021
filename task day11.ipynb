{
 "cells": [
  {
   "cell_type": "markdown",
   "metadata": {},
   "source": [
    "## Download data Black Friday Sales Prediction from Analytics Vidhya"
   ]
  },
  {
   "cell_type": "markdown",
   "metadata": {},
   "source": [
    "A retail company “ABC Private Limited” wants to understand the customer purchase behaviour (specifically, purchase amount) against various products of different categories. They have shared purchase summary of various customers for selected high volume products from last month.\n",
    "The data set also contains customer demographics (age, gender, marital status, city_type, stay_in_current_city), product details (product_id and product category) and Total purchase_amount from last month.\n",
    "\n",
    "Now, they want to build a model to predict the purchase amount of customer against various products which will help them to create personalized offer for customers against different products."
   ]
  },
  {
   "cell_type": "markdown",
   "metadata": {},
   "source": [
    "## KNN Regressor"
   ]
  },
  {
   "cell_type": "markdown",
   "metadata": {},
   "source": [
    "### Top 5 members"
   ]
  },
  {
   "cell_type": "markdown",
   "metadata": {},
   "source": [
    "#### 1) Daksh21   Date:-25-06-2020\n",
    "#### 2) dkozlov\n",
    "#### 3) nidhi77\n",
    "#### 4) avkay\n",
    "#### 5) n3xusr3rm\n"
   ]
  },
  {
   "cell_type": "markdown",
   "metadata": {},
   "source": [
    "###  Procedure :\n",
    "      \n",
    "      1)import Library\n",
    "      \n",
    "      2)First import train data\n",
    "      \n",
    "      3)describe the data\n",
    "      \n",
    "      4) Fillinf null value\n",
    "      \n",
    "      5) lable encoder\n",
    "      \n",
    "      6) get dummies.\n",
    "      \n",
    "      7) finding dependent and independent varible\n",
    "      \n",
    "      8) spliting data in train test split\n",
    "      \n",
    "      9) fitting the model.\n",
    "      \n",
    "      10) prediction of y\n",
    "      \n",
    "      11) checking RMSE\n",
    "      \n",
    "      !2) importing test data.\n",
    "      \n",
    "      13) describe the data\n",
    "      \n",
    "      14) Fillinf null value\n",
    "      \n",
    "      15) lable encoder\n",
    "      \n",
    "      16) get dummies.\n",
    "      \n",
    "      17) fitting model on X variable (indepents variables)\n",
    "      \n",
    "      18) predecting y_pred_test\n",
    "      \n",
    "      19) then saving submission file with Y_pred_value\n",
    "      \n",
    "      20) uploding it At analytic vidya \n",
    "      "
   ]
  },
  {
   "cell_type": "code",
   "execution_count": null,
   "metadata": {},
   "outputs": [],
   "source": []
  }
 ],
 "metadata": {
  "kernelspec": {
   "display_name": "Python 3",
   "language": "python",
   "name": "python3"
  },
  "language_info": {
   "codemirror_mode": {
    "name": "ipython",
    "version": 3
   },
   "file_extension": ".py",
   "mimetype": "text/x-python",
   "name": "python",
   "nbconvert_exporter": "python",
   "pygments_lexer": "ipython3",
   "version": "3.7.6"
  }
 },
 "nbformat": 4,
 "nbformat_minor": 4
}
