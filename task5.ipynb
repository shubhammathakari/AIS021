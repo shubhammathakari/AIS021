{
 "cells": [
  {
   "cell_type": "markdown",
   "metadata": {},
   "source": [
    "### Mathakari Shubham\n",
    "### ID:AIS021"
   ]
  },
  {
   "cell_type": "markdown",
   "metadata": {},
   "source": [
    "### Basic programs"
   ]
  },
  {
   "cell_type": "markdown",
   "metadata": {},
   "source": [
    "### 1. Create a tuple to display the values of a tuple using for loop?"
   ]
  },
  {
   "cell_type": "code",
   "execution_count": 160,
   "metadata": {},
   "outputs": [
    {
     "name": "stdout",
     "output_type": "stream",
     "text": [
      "apple\n",
      "banana\n",
      "Grapes\n",
      "Mango\n",
      "Oranges\n",
      "strawberry\n"
     ]
    }
   ],
   "source": [
    "tuple1 =('apple','banana','Grapes','Mango','Oranges','strawberry')\n",
    "for elem in tuple1:\n",
    "    print(elem)"
   ]
  },
  {
   "cell_type": "markdown",
   "metadata": {},
   "source": [
    "### 2. Write a python program to display even numbers between 100 and 120 using while loop?"
   ]
  },
  {
   "cell_type": "code",
   "execution_count": 145,
   "metadata": {},
   "outputs": [
    {
     "name": "stdout",
     "output_type": "stream",
     "text": [
      "100\n",
      "102\n",
      "104\n",
      "106\n",
      "108\n",
      "110\n",
      "112\n",
      "114\n",
      "116\n",
      "118\n",
      "120\n"
     ]
    }
   ],
   "source": [
    "a = 120\n",
    "number = 100\n",
    "while number <= a:\n",
    "    if(number % 2 == 0):\n",
    "        print(\"{0}\".format(number))\n",
    "    number = number + 1"
   ]
  },
  {
   "cell_type": "markdown",
   "metadata": {},
   "source": [
    "### 3. Write a python program to display numbers from 10 to 1 in decreasing order using for loop?"
   ]
  },
  {
   "cell_type": "code",
   "execution_count": 158,
   "metadata": {},
   "outputs": [
    {
     "name": "stdout",
     "output_type": "stream",
     "text": [
      "10 9 8 7 6 5 4 3 2 1 "
     ]
    }
   ],
   "source": [
    "n=10\n",
    "for i in range(n,0,-1):\n",
    "    print(i,end = \" \")"
   ]
  },
  {
   "cell_type": "markdown",
   "metadata": {},
   "source": [
    "### 4. Write a python program to display numbers from 11 to 15 using continue statement?"
   ]
  },
  {
   "cell_type": "code",
   "execution_count": 148,
   "metadata": {},
   "outputs": [
    {
     "name": "stdout",
     "output_type": "stream",
     "text": [
      "11 12 13 14 15 "
     ]
    }
   ],
   "source": [
    "for i in range(10, 16):\n",
    "    if i == 10: \n",
    "        continue\n",
    "    else:\n",
    "        print(i, end = \" \")"
   ]
  },
  {
   "cell_type": "markdown",
   "metadata": {},
   "source": [
    "### 5.Write a function add () to find sum of two numbers?"
   ]
  },
  {
   "cell_type": "code",
   "execution_count": 3,
   "metadata": {},
   "outputs": [
    {
     "data": {
      "text/plain": [
       "194"
      ]
     },
     "execution_count": 3,
     "metadata": {},
     "output_type": "execute_result"
    }
   ],
   "source": [
    "def add(a,b):\n",
    "    sum=a+b\n",
    "    return(sum)\n",
    "x=96\n",
    "y=98\n",
    "add(x,y)"
   ]
  },
  {
   "cell_type": "markdown",
   "metadata": {},
   "source": [
    "### 6. Write a function multi () to find multiplication of two numbers using return statement?"
   ]
  },
  {
   "cell_type": "code",
   "execution_count": 5,
   "metadata": {},
   "outputs": [
    {
     "name": "stdout",
     "output_type": "stream",
     "text": [
      "425\n"
     ]
    }
   ],
   "source": [
    "def multi(a,b):\n",
    "    multi=a*b\n",
    "    return(multi)\n",
    "x1=17\n",
    "y1=25\n",
    "print(multi(x1,y1))"
   ]
  },
  {
   "cell_type": "markdown",
   "metadata": {},
   "source": [
    "### 7. Write a python program to print numbers in list which are greater than 50?\n",
    "### Where, list=[12,55,9,30,47,56,23,60,75]"
   ]
  },
  {
   "cell_type": "code",
   "execution_count": 156,
   "metadata": {},
   "outputs": [
    {
     "name": "stdout",
     "output_type": "stream",
     "text": [
      "55\n",
      "56\n",
      "60\n",
      "75\n"
     ]
    }
   ],
   "source": [
    "list1 = [12,55,9,30,47,56,23,60,75]\n",
    "for i in list1:\n",
    "    if i > 50 :\n",
    "        print(i)\n"
   ]
  },
  {
   "cell_type": "markdown",
   "metadata": {},
   "source": [
    "### 8. Write a function max () that returns a maximum of two number?"
   ]
  },
  {
   "cell_type": "code",
   "execution_count": 129,
   "metadata": {},
   "outputs": [
    {
     "data": {
      "text/plain": [
       "50"
      ]
     },
     "execution_count": 129,
     "metadata": {},
     "output_type": "execute_result"
    }
   ],
   "source": [
    "def max(num1, num2):\n",
    "    if (num1 > num2):\n",
    "        max = num1\n",
    "    else:\n",
    "        max = num2\n",
    "    return (max) \n",
    "max(50,39)    "
   ]
  },
  {
   "cell_type": "markdown",
   "metadata": {},
   "source": [
    "### 9. Write a function divisible () that takes number"
   ]
  },
  {
   "cell_type": "markdown",
   "metadata": {},
   "source": [
    "#### 1. If number is divisible by 3, it should return \"yes\"\n",
    "#### 2. If number is divisible by 5, it should return \"no\"\n",
    "#### 3. If number is divisible by both 3 and 5, it should return \"yesno\"\n",
    "#### 4. Otherwise it should return \"notdivisible\"\n"
   ]
  },
  {
   "cell_type": "code",
   "execution_count": 143,
   "metadata": {},
   "outputs": [],
   "source": [
    "def divisible(x):\n",
    "    if ((x%3 == 0) and (x%5 ==0)):\n",
    "        return(\"yesno\")\n",
    "    elif (x%3 == 0):\n",
    "        return(\"yes\")\n",
    "    elif (x%5 == 0):\n",
    "        return(\"no\")\n",
    "    else:\n",
    "        return(\"notdivisible\")"
   ]
  },
  {
   "cell_type": "code",
   "execution_count": 144,
   "metadata": {},
   "outputs": [
    {
     "name": "stdout",
     "output_type": "stream",
     "text": [
      "yes\n",
      "no\n",
      "yesno\n",
      "notdivisible\n"
     ]
    }
   ],
   "source": [
    "print(divisible(18))\n",
    "print(divisible(55))\n",
    "print(divisible(60))\n",
    "print(divisible(71))"
   ]
  },
  {
   "cell_type": "markdown",
   "metadata": {},
   "source": [
    "### 10. Write a function called stars (rows). If rows is 4, it should print the following?\n",
    "#### *\n",
    "#### **\n",
    "#### ***\n",
    "#### ****"
   ]
  },
  {
   "cell_type": "code",
   "execution_count": 140,
   "metadata": {},
   "outputs": [],
   "source": [
    "def stars(rows): \n",
    "    for i in range(0, rows): \n",
    "        for j in range(0, i+1):  \n",
    "            print(\"* \",end=\"\")  \n",
    "        print(\"\\r\")    "
   ]
  },
  {
   "cell_type": "code",
   "execution_count": 142,
   "metadata": {},
   "outputs": [
    {
     "name": "stdout",
     "output_type": "stream",
     "text": [
      "* \r\n",
      "* * \r\n",
      "* * * \r\n",
      "* * * * \r\n",
      "* * * * * \r\n",
      "* * * * * * \r\n"
     ]
    }
   ],
   "source": [
    "stars(6)"
   ]
  }
 ],
 "metadata": {
  "kernelspec": {
   "display_name": "Python 3",
   "language": "python",
   "name": "python3"
  },
  "language_info": {
   "codemirror_mode": {
    "name": "ipython",
    "version": 3
   },
   "file_extension": ".py",
   "mimetype": "text/x-python",
   "name": "python",
   "nbconvert_exporter": "python",
   "pygments_lexer": "ipython3",
   "version": "3.7.6"
  }
 },
 "nbformat": 4,
 "nbformat_minor": 4
}
